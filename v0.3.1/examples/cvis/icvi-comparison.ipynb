{
 "cells": [
  {
   "cell_type": "markdown",
   "source": [
    "## Overview"
   ],
   "metadata": {}
  },
  {
   "cell_type": "markdown",
   "source": [
    "This demo demostrates the differing behavior of the various ICVIs implemented in `ClusterValidityIndices.jl`.\n",
    "Here, we load a simple dataset and run a basic clustering algorithm to prescribe a set of clusters to the features.\n",
    "We will take advantage of the fact that we can compute a criterion value at every step by running the ICVI alongside an online clustering algorithm."
   ],
   "metadata": {}
  },
  {
   "cell_type": "markdown",
   "source": [
    "## Online Clustering"
   ],
   "metadata": {}
  },
  {
   "cell_type": "markdown",
   "source": [
    "### Data Setup"
   ],
   "metadata": {}
  },
  {
   "cell_type": "markdown",
   "source": [
    "First, we must load all of our dependencies.\n",
    "We will load the `ClusterValidityIndices.jl` along with some data utilities and the Julia `Clustering.jl` package to cluster that data."
   ],
   "metadata": {}
  },
  {
   "outputs": [],
   "cell_type": "code",
   "source": [
    "using ClusterValidityIndices    # CVI/ICVI\n",
    "using AdaptiveResonance         # DDVFA\n",
    "using MLDatasets                # Iris dataset\n",
    "using MLDataUtils               # Shuffling and splitting\n",
    "using Printf                    # Formatted number printing\n",
    "using Plots"
   ],
   "metadata": {},
   "execution_count": 1
  },
  {
   "cell_type": "markdown",
   "source": [
    "We will download the Iris dataset for its small size and benchmark use for clustering algorithms."
   ],
   "metadata": {}
  },
  {
   "outputs": [
    {
     "name": "stdout",
     "output_type": "stream",
     "text": [
      "┌ Info: Downloading\n",
      "│   source = \"https://archive.ics.uci.edu/ml/machine-learning-databases/iris/iris.data\"\n",
      "│   dest = \"C:\\\\Users\\\\Sasha\\\\.julia\\\\datadeps\\\\Iris\\\\iris.data\"\n",
      "│   progress = 1.0\n",
      "│   time_taken = \"0.0 s\"\n",
      "│   time_remaining = \"0.0 s\"\n",
      "│   average_speed = \"∞ B/s\"\n",
      "│   downloaded = \"4.444 KiB\"\n",
      "│   remaining = \"0 bytes\"\n",
      "└   total = \"4.444 KiB\"\n"
     ]
    },
    {
     "output_type": "execute_result",
     "data": {
      "text/plain": "([5.1 4.9 … 6.2 5.9; 3.5 3.0 … 3.4 3.0; 1.4 1.4 … 5.4 5.1; 0.2 0.2 … 2.3 1.8], [\"Iris-setosa\", \"Iris-setosa\", \"Iris-setosa\", \"Iris-setosa\", \"Iris-setosa\", \"Iris-setosa\", \"Iris-setosa\", \"Iris-setosa\", \"Iris-setosa\", \"Iris-setosa\"  …  \"Iris-virginica\", \"Iris-virginica\", \"Iris-virginica\", \"Iris-virginica\", \"Iris-virginica\", \"Iris-virginica\", \"Iris-virginica\", \"Iris-virginica\", \"Iris-virginica\", \"Iris-virginica\"])"
     },
     "metadata": {},
     "execution_count": 2
    }
   ],
   "cell_type": "code",
   "source": [
    "Iris.download(i_accept_the_terms_of_use=true)\n",
    "features, labels = Iris.features(), Iris.labels()"
   ],
   "metadata": {},
   "execution_count": 2
  },
  {
   "cell_type": "markdown",
   "source": [
    "Because the MLDatasets package gives us Iris labels as strings, we will use the `MLDataUtils.convertlabel` method with the `MLLabelUtils.LabelEnc.Indices` type to get a list of integers representing each class:"
   ],
   "metadata": {}
  },
  {
   "outputs": [
    {
     "output_type": "execute_result",
     "data": {
      "text/plain": "3-element Vector{Int64}:\n 1\n 2\n 3"
     },
     "metadata": {},
     "execution_count": 3
    }
   ],
   "cell_type": "code",
   "source": [
    "labels = convertlabel(LabelEnc.Indices{Int}, labels)\n",
    "unique(labels)"
   ],
   "metadata": {},
   "execution_count": 3
  },
  {
   "cell_type": "markdown",
   "source": [
    "### ART Online Clustering"
   ],
   "metadata": {}
  },
  {
   "cell_type": "markdown",
   "source": [
    "Adaptive Resonance Theory (ART) is a neurocognitive theory that is the basis of a class of online clustering algorithms.\n",
    "Because these clustering algorithms run online, we can both cluster and compute a new criterion value at every step.\n",
    "For more on these ART algorithms, see [`AdaptiveResonance.jl`](https://github.com/AP6YC/AdaptiveResonance.jl)."
   ],
   "metadata": {}
  },
  {
   "outputs": [
    {
     "output_type": "execute_result",
     "data": {
      "text/plain": "AdaptiveResonance.DDVFA"
     },
     "metadata": {},
     "execution_count": 4
    }
   ],
   "cell_type": "code",
   "source": [
    "# Create a Distributed Dual-Vigilance Fuzzy ART (DDVFA) module with default options\n",
    "art = DDVFA()\n",
    "typeof(art)"
   ],
   "metadata": {},
   "execution_count": 4
  },
  {
   "cell_type": "markdown",
   "source": [
    "Because we are streaming clustering, we must setup the internal data setup of the DDVFA module.\n",
    "This is akin to doing some data preprocessing and communicating the dimension of the data, bounds, etc. to the module beforehand."
   ],
   "metadata": {}
  },
  {
   "outputs": [
    {
     "output_type": "execute_result",
     "data": {
      "text/plain": "true"
     },
     "metadata": {},
     "execution_count": 5
    }
   ],
   "cell_type": "code",
   "source": [
    "# Setup the data configuration for the module\n",
    "data_setup!(art.config, features)\n",
    "# Verify that the data is setup\n",
    "art.config.setup"
   ],
   "metadata": {},
   "execution_count": 5
  },
  {
   "cell_type": "markdown",
   "source": [
    "We can now cluster and get the criterion values online.\n",
    "We will do this by creating many ICVI objects, setting up containers for the iterations, and then iterating."
   ],
   "metadata": {}
  },
  {
   "outputs": [
    {
     "output_type": "execute_result",
     "data": {
      "text/plain": "9×150 Matrix{Float64}:\n 0.0  0.0  0.0  0.0  0.0  0.0  0.0  0.0  0.0  0.0  …  185.974      187.456\n 0.0  0.0  0.0  0.0  0.0  0.0  0.0  0.0  0.0  0.0     -89.6551     -82.4838\n 0.0  0.0  0.0  0.0  0.0  0.0  0.0  0.0  0.0  0.0       0.608095     0.605218\n 0.0  0.0  0.0  0.0  0.0  0.0  0.0  0.0  0.0  0.0       0.396107     0.399748\n 0.0  0.0  0.0  0.0  0.0  0.0  0.0  0.0  0.0  0.0       0.0733091    0.073983\n 0.0  0.0  0.0  0.0  0.0  0.0  0.0  0.0  0.0  0.0  …   -1.37173     -1.38178\n 0.0  0.0  0.0  0.0  0.0  0.0  0.0  0.0  0.0  0.0       0.173769     0.173208\n 0.0  0.0  0.0  0.0  0.0  0.0  0.0  0.0  0.0  0.0       0.967875     0.966892\n 0.0  0.0  0.0  0.0  0.0  0.0  0.0  0.0  0.0  0.0       0.961858     0.957701"
     },
     "metadata": {},
     "execution_count": 6
    }
   ],
   "cell_type": "code",
   "source": [
    "# Create many ICVI objects\n",
    "icvis = [\n",
    "    CH(),\n",
    "    cSIL(),\n",
    "    DB(),\n",
    "    GD43(),\n",
    "    GD53(),\n",
    "    PS(),\n",
    "    rCIP(),\n",
    "    WB(),\n",
    "    XB(),\n",
    "]\n",
    "\n",
    "# Setup the online/streaming clustering\n",
    "n_samples = length(labels)          # Number of samples\n",
    "n_icvi = length(icvis)              # Number of ICVIs being computed\n",
    "c_labels = zeros(Int, n_samples)    # Clustering labels\n",
    "criterion_values = zeros(n_icvi, n_samples) # ICVI outputs\n",
    "\n",
    "# Iterate over all samples\n",
    "for ix = 1:n_samples\n",
    "    # Extract one sample\n",
    "    sample = features[:, ix]\n",
    "    # Cluster the sample online\n",
    "    c_labels[ix] = train!(art, sample)\n",
    "    # Get the new criterion values (ICVI output)\n",
    "    for jx = 1:n_icvi\n",
    "        criterion_values[jx, ix] = get_icvi!(icvis[jx], sample, c_labels[ix])\n",
    "    end\n",
    "end\n",
    "\n",
    "# See the matrix of criterion values\n",
    "criterion_values"
   ],
   "metadata": {},
   "execution_count": 6
  },
  {
   "cell_type": "markdown",
   "source": [
    "We can inspect the final ICVI values to see how they differ:"
   ],
   "metadata": {}
  },
  {
   "outputs": [
    {
     "output_type": "execute_result",
     "data": {
      "text/plain": "9-element Vector{Float64}:\n 187.45626993623438\n -82.48378464919838\n   0.6052176668598529\n   0.39974779348978295\n   0.07398295617634965\n  -1.3817781684104142\n   0.1732082866311681\n   0.9668921720338003\n   0.9577014813738315"
     },
     "metadata": {},
     "execution_count": 7
    }
   ],
   "cell_type": "code",
   "source": [
    "criterion_values[:, end]"
   ],
   "metadata": {},
   "execution_count": 7
  },
  {
   "cell_type": "markdown",
   "source": [
    "---\n",
    "\n",
    "*This notebook was generated using [Literate.jl](https://github.com/fredrikekre/Literate.jl).*"
   ],
   "metadata": {}
  }
 ],
 "nbformat_minor": 3,
 "metadata": {
  "language_info": {
   "file_extension": ".jl",
   "mimetype": "application/julia",
   "name": "julia",
   "version": "1.6.1"
  },
  "kernelspec": {
   "name": "julia-1.6",
   "display_name": "Julia 1.6.1",
   "language": "julia"
  }
 },
 "nbformat": 4
}
