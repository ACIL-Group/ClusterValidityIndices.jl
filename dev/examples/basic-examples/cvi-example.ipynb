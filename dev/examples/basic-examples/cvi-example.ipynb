{
 "cells": [
  {
   "cell_type": "markdown",
   "source": [
    "## Overview"
   ],
   "metadata": {}
  },
  {
   "cell_type": "markdown",
   "source": [
    "This demo is a simple example of how to use CVIs in batch mode.\n",
    "Here, we load a simple dataset and run a basic clustering algorithm to prescribe a set of clusters to the features.\n",
    "It is a combination of these features and the prescribed labels that are used to compute the criterion value.\n",
    "This simple example demonstrates the usage of a single CVI, but it may be substituted for any other CVI in the `ClusterValidityIndices.jl` package."
   ],
   "metadata": {}
  },
  {
   "cell_type": "markdown",
   "source": [
    "## Clustering"
   ],
   "metadata": {}
  },
  {
   "cell_type": "markdown",
   "source": [
    "### Data Setup"
   ],
   "metadata": {}
  },
  {
   "cell_type": "markdown",
   "source": [
    "First, we must load all of our dependencies.\n",
    "We will load the `ClusterValidityIndices.jl` along with some data utilities and the Julia `Clustering.jl` package to cluster that data."
   ],
   "metadata": {}
  },
  {
   "outputs": [],
   "cell_type": "code",
   "source": [
    "using ClusterValidityIndices    # CVI/ICVI\n",
    "using Clustering                # DBSCAN\n",
    "using MLDatasets                # Iris dataset\n",
    "using MLDataUtils               # Shuffling and splitting\n",
    "using Printf                    # Formatted number printing"
   ],
   "metadata": {},
   "execution_count": 1
  },
  {
   "cell_type": "markdown",
   "source": [
    "We will download the Iris dataset for its small size and benchmark use for clustering algorithms."
   ],
   "metadata": {}
  },
  {
   "outputs": [
    {
     "output_type": "execute_result",
     "data": {
      "text/plain": "([5.1 4.9 … 6.2 5.9; 3.5 3.0 … 3.4 3.0; 1.4 1.4 … 5.4 5.1; 0.2 0.2 … 2.3 1.8], [\"Iris-setosa\", \"Iris-setosa\", \"Iris-setosa\", \"Iris-setosa\", \"Iris-setosa\", \"Iris-setosa\", \"Iris-setosa\", \"Iris-setosa\", \"Iris-setosa\", \"Iris-setosa\"  …  \"Iris-virginica\", \"Iris-virginica\", \"Iris-virginica\", \"Iris-virginica\", \"Iris-virginica\", \"Iris-virginica\", \"Iris-virginica\", \"Iris-virginica\", \"Iris-virginica\", \"Iris-virginica\"])"
     },
     "metadata": {},
     "execution_count": 2
    }
   ],
   "cell_type": "code",
   "source": [
    "Iris.download(i_accept_the_terms_of_use=true)\n",
    "features, labels = Iris.features(), Iris.labels()"
   ],
   "metadata": {},
   "execution_count": 2
  },
  {
   "cell_type": "markdown",
   "source": [
    "Because the MLDatasets package gives us Iris labels as strings, we will use the `MLDataUtils.convertlabel` method with the `MLLabelUtils.LabelEnc.Indices` type to get a list of integers representing each class:"
   ],
   "metadata": {}
  },
  {
   "outputs": [
    {
     "output_type": "execute_result",
     "data": {
      "text/plain": "3-element Array{Int64,1}:\n 1\n 2\n 3"
     },
     "metadata": {},
     "execution_count": 3
    }
   ],
   "cell_type": "code",
   "source": [
    "labels = convertlabel(LabelEnc.Indices{Int}, labels)\n",
    "unique(labels)"
   ],
   "metadata": {},
   "execution_count": 3
  },
  {
   "cell_type": "markdown",
   "source": [
    "### Fuzzy C-Means"
   ],
   "metadata": {}
  },
  {
   "cell_type": "markdown",
   "source": [
    "Get the Fuzzy C-Means clustering result"
   ],
   "metadata": {}
  },
  {
   "outputs": [
    {
     "output_type": "execute_result",
     "data": {
      "text/plain": "FuzzyCMeansResult: 3 clusters for 150 points in 4 dimensions (converged in 18 iterations)"
     },
     "metadata": {},
     "execution_count": 4
    }
   ],
   "cell_type": "code",
   "source": [
    "results = fuzzy_cmeans(features, 3, 2)"
   ],
   "metadata": {},
   "execution_count": 4
  },
  {
   "cell_type": "markdown",
   "source": [
    "Because the results are fuzzy weights, find the maximum elements along each sample"
   ],
   "metadata": {}
  },
  {
   "outputs": [
    {
     "output_type": "execute_result",
     "data": {
      "text/plain": "150×1 Array{CartesianIndex{2},2}:\n CartesianIndex(1, 3)\n CartesianIndex(2, 3)\n CartesianIndex(3, 3)\n CartesianIndex(4, 3)\n CartesianIndex(5, 3)\n CartesianIndex(6, 3)\n CartesianIndex(7, 3)\n CartesianIndex(8, 3)\n CartesianIndex(9, 3)\n CartesianIndex(10, 3)\n ⋮\n CartesianIndex(142, 1)\n CartesianIndex(143, 2)\n CartesianIndex(144, 1)\n CartesianIndex(145, 1)\n CartesianIndex(146, 1)\n CartesianIndex(147, 2)\n CartesianIndex(148, 1)\n CartesianIndex(149, 1)\n CartesianIndex(150, 2)"
     },
     "metadata": {},
     "execution_count": 5
    }
   ],
   "cell_type": "code",
   "source": [
    "indices = argmax(results.weights, dims=2)"
   ],
   "metadata": {},
   "execution_count": 5
  },
  {
   "cell_type": "markdown",
   "source": [
    "Get those labels as a vector of integers"
   ],
   "metadata": {}
  },
  {
   "outputs": [
    {
     "output_type": "execute_result",
     "data": {
      "text/plain": "150-element Array{Int64,1}:\n 3\n 3\n 3\n 3\n 3\n 3\n 3\n 3\n 3\n 3\n ⋮\n 1\n 2\n 1\n 1\n 1\n 2\n 1\n 1\n 2"
     },
     "metadata": {},
     "execution_count": 6
    }
   ],
   "cell_type": "code",
   "source": [
    "c_labels = vec([c[2] for c in indices])"
   ],
   "metadata": {},
   "execution_count": 6
  },
  {
   "cell_type": "markdown",
   "source": [
    "## CVI Criterion Value Extraction"
   ],
   "metadata": {}
  },
  {
   "cell_type": "markdown",
   "source": [
    "Now that we have some data and a clustering algorithm's prescribed labels, we can compute a criterion value using a CVI in batch mode.\n",
    "First, we create a CVI object with the default constructor:"
   ],
   "metadata": {}
  },
  {
   "outputs": [
    {
     "output_type": "execute_result",
     "data": {
      "text/plain": "CH(Dict{Int64,Int64}(), 0, 0, Float64[], Integer[], Array{Float64}(undef,0,0), Float64[], Float64[], Array{Float64}(undef,0,0), 0.0, 0.0, 0, 0.0)"
     },
     "metadata": {},
     "execution_count": 7
    }
   ],
   "cell_type": "code",
   "source": [
    "# Create a CVI object\n",
    "my_cvi = CH()"
   ],
   "metadata": {},
   "execution_count": 7
  },
  {
   "cell_type": "markdown",
   "source": [
    "Finally we can simply get the criterion value in batch by passing all of the data and Fuzzy C-Means labels at once."
   ],
   "metadata": {}
  },
  {
   "outputs": [
    {
     "output_type": "execute_result",
     "data": {
      "text/plain": "558.9999681899934"
     },
     "metadata": {},
     "execution_count": 8
    }
   ],
   "cell_type": "code",
   "source": [
    "# Get the batch criterion value\n",
    "criterion_value = get_cvi!(my_cvi, features, c_labels)"
   ],
   "metadata": {},
   "execution_count": 8
  },
  {
   "cell_type": "markdown",
   "source": [
    "---\n",
    "\n",
    "*This notebook was generated using [Literate.jl](https://github.com/fredrikekre/Literate.jl).*"
   ],
   "metadata": {}
  }
 ],
 "nbformat_minor": 3,
 "metadata": {
  "language_info": {
   "file_extension": ".jl",
   "mimetype": "application/julia",
   "name": "julia",
   "version": "1.5.4"
  },
  "kernelspec": {
   "name": "julia-1.5",
   "display_name": "Julia 1.5.4",
   "language": "julia"
  }
 },
 "nbformat": 4
}
