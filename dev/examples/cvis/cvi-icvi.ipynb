{
 "cells": [
  {
   "cell_type": "markdown",
   "source": [
    "## Overview"
   ],
   "metadata": {}
  },
  {
   "cell_type": "markdown",
   "source": [
    "This demo is a simple example of how to use CVIs incrementally and in batch to demonstrate that the end results are the same.\n",
    "Here, we load a simple dataset and run a basic clustering algorithm to prescribe a set of clusters to the features.\n",
    "In the incremental case, we will take advantage of the fact that we can compute a criterion value at every step by running the ICVI alongside an online clustering algorithm.\n",
    "This simple example demonstrates the usage of a single CVI/ICVI, but it may be substituted for any other CVI/ICVI in the `ClusterValidityIndices.jl` package."
   ],
   "metadata": {}
  },
  {
   "cell_type": "markdown",
   "source": [
    "## Data Setup"
   ],
   "metadata": {}
  },
  {
   "cell_type": "markdown",
   "source": [
    "First, we must load all of our dependencies.\n",
    "We will load the `ClusterValidityIndices.jl` along with some data utilities and the Julia `Clustering.jl` package to cluster that data."
   ],
   "metadata": {}
  },
  {
   "outputs": [],
   "cell_type": "code",
   "source": [
    "using ClusterValidityIndices    # CVI/ICVI\n",
    "using AdaptiveResonance         # DDVFA\n",
    "using MLDatasets                # Iris dataset\n",
    "using DataFrames                # DataFrames, necessary for MLDatasets.Iris()\n",
    "using MLDataUtils               # Shuffling and splitting\n",
    "using Printf                    # Formatted number printing"
   ],
   "metadata": {},
   "execution_count": 1
  },
  {
   "cell_type": "markdown",
   "source": [
    "We will download the Iris dataset for its small size and benchmark use for clustering algorithms."
   ],
   "metadata": {}
  },
  {
   "outputs": [
    {
     "output_type": "execute_result",
     "data": {
      "text/plain": "([5.1 4.9 … 6.2 5.9; 3.5 3.0 … 3.4 3.0; 1.4 1.4 … 5.4 5.1; 0.2 0.2 … 2.3 1.8], InlineStrings.String15[InlineStrings.String15(\"Iris-setosa\") InlineStrings.String15(\"Iris-setosa\") … InlineStrings.String15(\"Iris-virginica\") InlineStrings.String15(\"Iris-virginica\")])"
     },
     "metadata": {},
     "execution_count": 2
    }
   ],
   "cell_type": "code",
   "source": [
    "iris = Iris(as_df=false)\n",
    "features, labels = iris.features, iris.targets"
   ],
   "metadata": {},
   "execution_count": 2
  },
  {
   "cell_type": "markdown",
   "source": [
    "Because the MLDatasets package gives us Iris labels as strings, we will use the `MLDataUtils.convertlabel` method with the `MLLabelUtils.LabelEnc.Indices` type to get a list of integers representing each class:}"
   ],
   "metadata": {}
  },
  {
   "outputs": [
    {
     "output_type": "execute_result",
     "data": {
      "text/plain": "3-element Vector{Int64}:\n 1\n 2\n 3"
     },
     "metadata": {},
     "execution_count": 3
    }
   ],
   "cell_type": "code",
   "source": [
    "labels = convertlabel(LabelEnc.Indices{Int}, vec(labels))\n",
    "unique(labels)"
   ],
   "metadata": {},
   "execution_count": 3
  },
  {
   "cell_type": "markdown",
   "source": [
    "## CVI/ICVI Setup"
   ],
   "metadata": {}
  },
  {
   "cell_type": "markdown",
   "source": [
    "Because CVI/ICVIs only differ in their evaluation mode, we will use the same default constructor for both of our objects.\n",
    "Here, we will use the same type of CVI for both objects to verify that the results of both are the same at the final iteration."
   ],
   "metadata": {}
  },
  {
   "outputs": [
    {
     "output_type": "execute_result",
     "data": {
      "text/plain": "CH(Dict{Int64, Int64}(), 0, 0, Float64[], Int64[], Matrix{Float64}(undef, 0, 0), Float64[], Float64[], Matrix{Float64}(undef, 0, 0), 0.0, 0.0, 0, 0.0)"
     },
     "metadata": {},
     "execution_count": 4
    }
   ],
   "cell_type": "code",
   "source": [
    "# Create both CVI objects, using one incrementally as an ICVI\n",
    "icvi = CH()\n",
    "cvi = CH()"
   ],
   "metadata": {},
   "execution_count": 4
  },
  {
   "cell_type": "markdown",
   "source": [
    "## Online Clustering"
   ],
   "metadata": {}
  },
  {
   "cell_type": "markdown",
   "source": [
    "### Adaptive Resonance Theory Algorithms"
   ],
   "metadata": {}
  },
  {
   "cell_type": "markdown",
   "source": [
    "Adaptive Resonance Theory (ART) is a neurocognitive theory that is the basis of a class of online clustering algorithms.\n",
    "Because these clustering algorithms run online, we can both cluster and compute a new criterion value at every step.\n",
    "For more on these ART algorithms, see [`AdaptiveResonance.jl`](https://github.com/AP6YC/AdaptiveResonance.jl)."
   ],
   "metadata": {}
  },
  {
   "outputs": [
    {
     "output_type": "execute_result",
     "data": {
      "text/plain": "AdaptiveResonance.DDVFA"
     },
     "metadata": {},
     "execution_count": 5
    }
   ],
   "cell_type": "code",
   "source": [
    "# Create a Distributed Dual-Vigilance Fuzzy ART (DDVFA) module with default options\n",
    "art = DDVFA()\n",
    "typeof(art)"
   ],
   "metadata": {},
   "execution_count": 5
  },
  {
   "cell_type": "markdown",
   "source": [
    "Because we are streaming clustering, we must setup the internal data setup of the DDVFA module.\n",
    "This is akin to doing some data preprocessing and communicating the dimension of the data, bounds, etc. to the module beforehand."
   ],
   "metadata": {}
  },
  {
   "outputs": [
    {
     "output_type": "execute_result",
     "data": {
      "text/plain": "true"
     },
     "metadata": {},
     "execution_count": 6
    }
   ],
   "cell_type": "code",
   "source": [
    "# Setup the data configuration for the module\n",
    "data_setup!(art.config, features)\n",
    "# Verify that the data is setup\n",
    "art.config.setup"
   ],
   "metadata": {},
   "execution_count": 6
  },
  {
   "cell_type": "markdown",
   "source": [
    "### Iteration"
   ],
   "metadata": {}
  },
  {
   "cell_type": "markdown",
   "source": [
    "We can now cluster and get the criterion values online\n",
    "We will do this by creating an ICVI object, setting up containers for the iterations, and then iterating."
   ],
   "metadata": {}
  },
  {
   "outputs": [
    {
     "output_type": "execute_result",
     "data": {
      "text/plain": "150-element Vector{Float64}:\n   0.0\n   0.0\n   0.0\n   0.0\n   0.0\n   0.0\n   0.0\n   0.0\n   0.0\n   0.0\n   ⋮\n 175.70208373876895\n 176.98900203544565\n 177.76973027565234\n 178.5025580016738\n 180.18069298390944\n 181.89146457574347\n 183.96910814900303\n 185.97443145431606\n 187.45626993623438"
     },
     "metadata": {},
     "execution_count": 7
    }
   ],
   "cell_type": "code",
   "source": [
    "# Setup the online/streaming clustering\n",
    "n_samples = length(labels)          # Number of samples\n",
    "c_labels = zeros(Int, n_samples)    # Clustering labels\n",
    "criterion_values = zeros(n_samples) # ICVI outputs\n",
    "\n",
    "# Iterate over all samples\n",
    "for ix = 1:n_samples\n",
    "    # Extract one sample\n",
    "    sample = features[:, ix]\n",
    "    # Cluster the sample online\n",
    "    c_labels[ix] = train!(art, sample)\n",
    "    # Get the new criterion value (ICVI output)\n",
    "    criterion_values[ix] = get_cvi!(icvi, sample, c_labels[ix])\n",
    "end\n",
    "\n",
    "# See the list of criterion values\n",
    "criterion_values"
   ],
   "metadata": {},
   "execution_count": 7
  },
  {
   "cell_type": "markdown",
   "source": [
    "## Batch Evaluation"
   ],
   "metadata": {}
  },
  {
   "cell_type": "markdown",
   "source": [
    "In batch mode, we will use the sample features and prescribed cluster labels as before to verify that the criterion values are the same at the last iteration."
   ],
   "metadata": {}
  },
  {
   "outputs": [
    {
     "output_type": "execute_result",
     "data": {
      "text/plain": "187.45626993623443"
     },
     "metadata": {},
     "execution_count": 8
    }
   ],
   "cell_type": "code",
   "source": [
    "# Get the final criterion value in batch\n",
    "batch_criterion_value = get_cvi!(cvi, features, c_labels)"
   ],
   "metadata": {},
   "execution_count": 8
  },
  {
   "cell_type": "markdown",
   "source": [
    "## Comparison"
   ],
   "metadata": {}
  },
  {
   "cell_type": "markdown",
   "source": [
    "Now we check that the two produce the same results in the end."
   ],
   "metadata": {}
  },
  {
   "outputs": [
    {
     "name": "stdout",
     "output_type": "stream",
     "text": [
      "Batch criterion value: 187.4563\n",
      "Final incremental criterion value: 187.4563\n"
     ]
    }
   ],
   "cell_type": "code",
   "source": [
    "# Print the batch result and the final result of the incremental variant\n",
    "@printf \"Batch criterion value: %.4f\\n\" batch_criterion_value\n",
    "@printf \"Final incremental criterion value: %.4f\\n\" criterion_values[end]"
   ],
   "metadata": {},
   "execution_count": 9
  },
  {
   "cell_type": "markdown",
   "source": [
    "---\n",
    "\n",
    "*This notebook was generated using [Literate.jl](https://github.com/fredrikekre/Literate.jl).*"
   ],
   "metadata": {}
  }
 ],
 "nbformat_minor": 3,
 "metadata": {
  "language_info": {
   "file_extension": ".jl",
   "mimetype": "application/julia",
   "name": "julia",
   "version": "1.8.3"
  },
  "kernelspec": {
   "name": "julia-1.8",
   "display_name": "Julia 1.8.3",
   "language": "julia"
  }
 },
 "nbformat": 4
}
